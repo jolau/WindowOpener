{
 "cells": [
  {
   "cell_type": "code",
   "execution_count": 2,
   "id": "632dbace",
   "metadata": {},
   "outputs": [],
   "source": [
    "import logging\n",
    "logger = logging.getLogger()\n",
    "logger.setLevel(logging.DEBUG)\n",
    "logging.debug(\"test\")"
   ]
  },
  {
   "cell_type": "code",
   "execution_count": null,
   "id": "e80130f5",
   "metadata": {},
   "outputs": [],
   "source": [
    "cover.open_cover(device_id=\"102d5c721979848782b13638a7aaa932\")"
   ]
  },
  {
   "cell_type": "code",
   "execution_count": 3,
   "id": "7dcd2b45",
   "metadata": {},
   "outputs": [],
   "source": [
    "cover.close_cover(device_id=\"102d5c721979848782b13638a7aaa932\")"
   ]
  },
  {
   "cell_type": "code",
   "execution_count": 2,
   "id": "ffa83e49",
   "metadata": {},
   "outputs": [],
   "source": [
    "cover.bathroom_window_opener.open_cover()"
   ]
  },
  {
   "cell_type": "code",
   "execution_count": 7,
   "id": "5a08fd0a",
   "metadata": {},
   "outputs": [
    {
     "data": {
      "text/plain": [
       "'open'"
      ]
     },
     "execution_count": 7,
     "metadata": {},
     "output_type": "execute_result"
    }
   ],
   "source": [
    "cover.bathroom_window_opener"
   ]
  },
  {
   "cell_type": "code",
   "execution_count": 7,
   "id": "ed06ebc7",
   "metadata": {},
   "outputs": [],
   "source": [
    "HUMIDITY_LOWER_THRESHOLD = 55\n",
    "HUMIDITY_UPPER_THRESHOLD = 60\n",
    "HUMIDITY_HIGH_HOLD_SECONDS = 0\n",
    "HUMIDITY_LOW_HOLD_SECONDS = 5*60\n",
    "MANUALLY_OPEN_SECONDS = 15*60\n",
    "MANUALLY_CLOSED_SECONDS = 10*60\n",
    "\n",
    "from enum import Enum\n",
    "class OperationMode:\n",
    "    MANUAL = 1\n",
    "    AUTO = 2\n",
    "    AUTO_SUSPENDED = 3\n",
    "\n",
    "\n",
    "operation_mode = OperationMode.AUTO\n",
    "auto_mode_open_window = False\n",
    "\n",
    "\n",
    "@time_trigger\n",
    "def on_startup():\n",
    "    input_boolean.bathroom_window_opener_automatically = 'on'"
   ]
  },
  {
   "cell_type": "code",
   "execution_count": 8,
   "id": "ee92d115",
   "metadata": {},
   "outputs": [
    {
     "name": "stdout",
     "output_type": "stream",
     "text": [
      "humidity high: 70\n",
      "humidity high: 70\n",
      "humidity low: 40\n"
     ]
    }
   ],
   "source": [
    "def actuate_window(open_window):\n",
    "    if open_window:\n",
    "        cover.bathroom_window_opener.open_cover()\n",
    "    else:\n",
    "        cover.bathroom_window_opener.close_cover()\n",
    "  \n",
    "   \n",
    "@state_trigger(\"float(sensor.lumi_lumi_weather_45e15906_humidity) > float(HUMIDITY_UPPER_THRESHOLD)\", state_hold=HUMIDITY_HIGH_HOLD_SECONDS)\n",
    "def humidity_high_trigger(value=None, old_value=None):\n",
    "    global operation_mode\n",
    "    global auto_mode_open_window\n",
    "\n",
    "#    humidity = float(value)\n",
    "    log.debug(f\"humidity high: {value}\")\n",
    "    \n",
    "    auto_mode_open_window = True\n",
    "    if operation_mode == OperationMode.AUTO:\n",
    "        actuate_window(auto_mode_open_window)\n",
    "        \n",
    "        \n",
    "@state_trigger(\"float(sensor.lumi_lumi_weather_45e15906_humidity) < float(HUMIDITY_LOWER_THRESHOLD)\", state_hold=HUMIDITY_LOW_HOLD_SECONDS)\n",
    "def humidity_low_trigger(value=None, old_value=None):\n",
    "    global operation_mode\n",
    "    global auto_mode_open_window\n",
    "\n",
    "#    humidity = float(value)\n",
    "    log.debug(f\"humidity low: {value}\")\n",
    "    \n",
    "    auto_mode_open_window = False\n",
    "    if operation_mode == OperationMode.AUTO:\n",
    "        actuate_window(auto_mode_open_window)"
   ]
  },
  {
   "cell_type": "code",
   "execution_count": 24,
   "id": "661b4ae4",
   "metadata": {},
   "outputs": [
    {
     "name": "stdout",
     "output_type": "stream",
     "text": [
      "2021-06-14 08:50:19.038349\n"
     ]
    }
   ],
   "source": [
    "import datetime\n",
    "log.debug(datetime.datetime.now())"
   ]
  },
  {
   "cell_type": "code",
   "execution_count": 20,
   "id": "dad77e8f",
   "metadata": {},
   "outputs": [],
   "source": [
    "def set_auto_window_state(humidity):  \n",
    "    if humidity > humidity_upper_threshold:\n",
    "        log.info(f\"Automatically opening window at humidity: {humidity}\")\n",
    "        auto_mode_open_window = True\n",
    "    elif humidity < humidity_lower_threshold:\n",
    "        log.info(f\"Automatically closing window at humidity: {humidity}\")\n",
    "        auto_mode_open_window = False\n",
    "\n",
    "                \n",
    "def actuate_window(open_window):\n",
    "    if open_window:\n",
    "        cover.bathroom_window_opener.open_cover()\n",
    "    else:\n",
    "        cover.bathroom_window_opener.close_cover()\n",
    "  \n",
    "   \n",
    "@state_trigger(\"sensor.lumi_lumi_weather_45e15906_humidity\")\n",
    "def humidity_trigger(value=None, old_value=None):\n",
    "    humidity = float(value)\n",
    "    log.debug(f\"humidity changed: {humidity}\")\n",
    "    \n",
    "    set_auto_window_state(humidity)\n",
    "    if operation_mode == OperationMode.AUTO:\n",
    "        actuate_window(auto_mode_open_window)"
   ]
  },
  {
   "cell_type": "code",
   "execution_count": 26,
   "id": "d625488c",
   "metadata": {},
   "outputs": [
    {
     "name": "stdout",
     "output_type": "stream",
     "text": [
      "2021-06-14 08:53:13.747049\n",
      "Close Window Manually\n",
      "Open Window Manually\n",
      "Close Window Manually\n",
      "humidity changed: 44.0\n",
      "Automatically closing window at humidity: 44.0\n",
      "2021-06-14 09:08:13.750204\n"
     ]
    }
   ],
   "source": [
    "@service(\"bathroom_window_controller.open_window_manually\")\n",
    "def open_window_manually():\n",
    "    task.unique(\"window_manually\")\n",
    "\n",
    "    log.info(\"Open Window Manually\")\n",
    "    if operation_mode == OperationMode.MANUAL:\n",
    "        actuate_window(True)\n",
    "    else:\n",
    "        operation_mode = OperationMode.AUTO_SUSPENDED\n",
    "        actuate_window(True)\n",
    "        task.sleep(manually_open_seconds)\n",
    "        operation_mode = OperationMode.AUTO\n",
    "        actuate_window(auto_mode_open_window)\n",
    "    \n",
    "    \n",
    "@service(\"bathroom_window_controller.close_window_manually\")\n",
    "def close_window_manually():\n",
    "    task.unique(\"window_manually\")\n",
    "\n",
    "    if operation_mode == OperationMode.MANUAL:\n",
    "        actuate_window(False)\n",
    "    else:\n",
    "        operation_mode = OperationMode.AUTO_SUSPENDED\n",
    "        actuate_window(False)\n",
    "        task.sleep(manually_closed_seconds)\n",
    "        operation_mode = OperationMode.AUTO\n",
    "        actuate_window(auto_mode_open_window)\n",
    "    \n",
    "    \n",
    "@service(\"bathroom_window_controller.disable_auto_mode\")\n",
    "def disable_auto_mode():\n",
    "    task.unique(\"window_manually\")\n",
    "\n",
    "    log.info(\"Disable auto mode\")\n",
    "    operation_mode = OperationMode.MANUAL\n",
    "    \n",
    "    \n",
    "@service(\"bathroom_window_controller.enable_auto_mode\")\n",
    "def enable_auto_mode():\n",
    "    task.unique(\"window_manually\")\n",
    "\n",
    "    log.info(\"Enable auto mode\")\n",
    "    operation_mode = OperationMode.AUTO\n",
    "    actuate_window(auto_mode_open_window)"
   ]
  }
 ],
 "metadata": {
  "kernelspec": {
   "display_name": "hass pyscript",
   "language": "python",
   "name": "pyscript"
  },
  "language_info": {
   "codemirror_mode": "",
   "file_extension": ".py",
   "mimetype": "",
   "name": "python",
   "nbconvert_exporter": "",
   "version": "1.0"
  }
 },
 "nbformat": 4,
 "nbformat_minor": 5
}
